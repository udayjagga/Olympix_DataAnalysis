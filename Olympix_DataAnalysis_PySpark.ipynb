{
 "cells": [
  {
   "cell_type": "markdown",
   "metadata": {
    "id": "2X1D2AgVJbSJ"
   },
   "source": [
    "# Olympics Dataset - Case Study Using Pyspark"
   ]
  },
  {
   "cell_type": "markdown",
   "metadata": {
    "id": "zmvcRoNmJbfp"
   },
   "source": [
    "![Olympics .png](data:image/png;base64,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)"
   ]
  },
  {
   "cell_type": "markdown",
   "metadata": {
    "id": "cWmPZ9iwLJkD"
   },
   "source": [
    "# Introduction"
   ]
  },
  {
   "cell_type": "markdown",
   "metadata": {
    "id": "5eghyc3_LOba"
   },
   "source": [
    "The Olympic Games, considered to be the world's foremost sports competition has more than 200 nations participating across the Summer and Winter Games alternating by occurring every four years but two years apart.<br>\n",
    "\n",
    "In this project, we are going to see the Olympics Data analysis using PySpark Library.The modern Olympic Games or Olympics are leading international sports events featuring summer and winter sports competitions in which thousands of athletes from around the world participate in a variety of competitions. The Olympic Games are considered the world’s foremost sports competition with more than 200 nations participating. Around 110 countiers have won the medals in different category of sports. Totally there are 49 sports. The Dataset contains the olympics winners from year 2000 to 2012.<br>\n",
    "For every event there are three winners ( like Gold Medal, Silver Medal and Bronze Medal ). Therefore various data is generated. So, by using PySpark I will analyze this data.<br></br>\n",
    "I am using the Olympic Data set that have been Cleaned in pandas like removing duplicates and special characters that present in features.\n",
    "\n"
   ]
  },
  {
   "cell_type": "markdown",
   "metadata": {
    "id": "LeATvpqdMSjP"
   },
   "source": [
    "### Problem Statement:"
   ]
  },
  {
   "cell_type": "markdown",
   "metadata": {
    "id": "ZVLlN1O1MSGS"
   },
   "source": [
    "Throughout this project, I will explore the Olympics dataset and look at some interesting statistics and then try to find out which country has won more number of Medals in Olympic Games."
   ]
  },
  {
   "cell_type": "markdown",
   "metadata": {
    "id": "FWKcrBvyMeHX"
   },
   "source": [
    "## Data Set Characteristics:"
   ]
  },
  {
   "cell_type": "markdown",
   "metadata": {
    "id": "JbQG8Z8XMdkR"
   },
   "source": [
    "Number of Observations in Data set : 8618\n",
    "<br></br>\n",
    "Number of features : 10\n"
   ]
  },
  {
   "cell_type": "markdown",
   "metadata": {
    "id": "BU2s7GsPMkDA"
   },
   "source": [
    "## Feature Description"
   ]
  },
  {
   "cell_type": "markdown",
   "metadata": {
    "id": "2q5gJXqaMp92"
   },
   "source": [
    "|Feature|Data Type|Description|\n",
    "|--------|---------|-----------|\n",
    "|Name | Object | Name of the player|\n",
    "|Age | Integer | Age of the player|\n",
    "|Country | Object | Name of the country(player belongs to)|\n",
    "|Year | Integer |  The year of the Olympics that the athlete competed in|\n",
    "|Date Given | Object | The date which player won the Medal |\n",
    "|Sports | Object |  The sport that the athlete competed in|\n",
    "|Gold medal | Integer | No of gold medals won |\n",
    "|Silver medal | Integer | No of Silver medals won |\n",
    "|Bronze medal | Integer | No of Bronze medals won |\n",
    "|Total medals | Integer | No of Total medals won |\n"
   ]
  },
  {
   "cell_type": "markdown",
   "metadata": {
    "id": "R2AzwxVRNGBC"
   },
   "source": [
    "## Installing the required Pyspark library"
   ]
  },
  {
   "cell_type": "code",
   "execution_count": 1,
   "metadata": {
    "colab": {
     "base_uri": "https://localhost:8080/"
    },
    "id": "Js9cRC9VLHCU",
    "outputId": "e9b2da00-ef3f-4727-d7f9-0a51ffef7d1e"
   },
   "outputs": [
    {
     "name": "stdout",
     "output_type": "stream",
     "text": [
      "Looking in indexes: https://pypi.org/simple, https://us-python.pkg.dev/colab-wheels/public/simple/\n",
      "Collecting pyspark\n",
      "  Downloading pyspark-3.2.1.tar.gz (281.4 MB)\n",
      "\u001b[K     |████████████████████████████████| 281.4 MB 35 kB/s \n",
      "\u001b[?25hCollecting py4j==0.10.9.3\n",
      "  Downloading py4j-0.10.9.3-py2.py3-none-any.whl (198 kB)\n",
      "\u001b[K     |████████████████████████████████| 198 kB 53.9 MB/s \n",
      "\u001b[?25hBuilding wheels for collected packages: pyspark\n",
      "  Building wheel for pyspark (setup.py) ... \u001b[?25l\u001b[?25hdone\n",
      "  Created wheel for pyspark: filename=pyspark-3.2.1-py2.py3-none-any.whl size=281853642 sha256=0b2143bfb8213ad62c7a6999bdbbfba49bfd4205979dedfce06247bd2bf8bd7b\n",
      "  Stored in directory: /root/.cache/pip/wheels/9f/f5/07/7cd8017084dce4e93e84e92efd1e1d5334db05f2e83bcef74f\n",
      "Successfully built pyspark\n",
      "Installing collected packages: py4j, pyspark\n",
      "Successfully installed py4j-0.10.9.3 pyspark-3.2.1\n"
     ]
    }
   ],
   "source": [
    "!pip install pyspark"
   ]
  },
  {
   "cell_type": "markdown",
   "metadata": {
    "id": "EmyMRCItVabr"
   },
   "source": [
    "# Import Dependecies\n",
    "\n"
   ]
  },
  {
   "cell_type": "code",
   "execution_count": 2,
   "metadata": {
    "colab": {
     "base_uri": "https://localhost:8080/"
    },
    "id": "KsIudxjgJTxy",
    "outputId": "7d211d7b-14e5-4c1b-f7fe-801a6519e37d"
   },
   "outputs": [
    {
     "name": "stderr",
     "output_type": "stream",
     "text": [
      "/usr/local/lib/python3.7/dist-packages/pyspark/sql/context.py:79: FutureWarning: Deprecated in 3.0.0. Use SparkSession.builder.getOrCreate() instead.\n",
      "  FutureWarning\n"
     ]
    }
   ],
   "source": [
    "#Initializing PySpark\n",
    "from pyspark import SparkContext, SparkConf\n",
    "from pyspark.sql import SparkSession\n",
    "from pyspark.sql import SQLContext\n",
    "\n",
    "# #Spark Config\n",
    "conf = SparkConf().setAppName(\"Olympix_app\")\n",
    "sc = SparkContext(conf=conf)\n",
    "spark = SparkSession.builder.appName('Olympix data Analysis').getOrCreate()\n",
    "sqlContext = SQLContext(sc)"
   ]
  },
  {
   "cell_type": "code",
   "execution_count": 3,
   "metadata": {
    "id": "Qu5RtzOfHB3K"
   },
   "outputs": [],
   "source": [
    "# importing functions from pyspark sql\n",
    "import pyspark.sql.functions as f"
   ]
  },
  {
   "cell_type": "markdown",
   "metadata": {
    "id": "hiXSoKulWMqT"
   },
   "source": [
    "## Reading the CSV file into Data Frame"
   ]
  },
  {
   "cell_type": "code",
   "execution_count": 5,
   "metadata": {
    "id": "R7cKvWCbWE4J"
   },
   "outputs": [],
   "source": [
    "# Reading the csv file into olympix_df data frame\n",
    "olympix_df = spark.read.format(\"csv\").option(\"header\", \"true\").option(\"inferSchema\",\"true\").load(\"/content/olympix(Cleaned data).csv\")"
   ]
  },
  {
   "cell_type": "code",
   "execution_count": 6,
   "metadata": {
    "colab": {
     "base_uri": "https://localhost:8080/"
    },
    "id": "v9I4lf9DWq3o",
    "outputId": "b3b2ea16-ccf0-4519-a4d3-b07b93f2e06e"
   },
   "outputs": [
    {
     "name": "stdout",
     "output_type": "stream",
     "text": [
      "+---------------+----+-------------+----+----------+----------+----------+------------+-----------+-----------+\n",
      "|           name| age|      country|year|Date_Given|    sports|gold_medal|silver_medal|brone_medal|total_medal|\n",
      "+---------------+----+-------------+----+----------+----------+----------+------------+-----------+-----------+\n",
      "|  MichaelPhelps|23.0|United States|2008|2008-08-24|  Swimming|         8|           0|          0|          8|\n",
      "|  MichaelPhelps|19.0|United States|2004|2004-08-29|  Swimming|         6|           0|          2|          8|\n",
      "|  MichaelPhelps|27.0|United States|2012|2012-08-12|  Swimming|         4|           2|          0|          6|\n",
      "|NatalieCoughlin|25.0|United States|2008|2008-08-24|  Swimming|         1|           2|          3|          6|\n",
      "|   AlekseyNemov|24.0|       Russia|2000|2000-10-01|Gymnastics|         2|           1|          3|          6|\n",
      "+---------------+----+-------------+----+----------+----------+----------+------------+-----------+-----------+\n",
      "only showing top 5 rows\n",
      "\n"
     ]
    }
   ],
   "source": [
    "# printing 5 records from data frame\n",
    "olympix_df.show(5)"
   ]
  },
  {
   "cell_type": "markdown",
   "metadata": {
    "id": "VHWsEeJOXWKc"
   },
   "source": [
    "##  Total Olympic Sports/games in the dataset."
   ]
  },
  {
   "cell_type": "code",
   "execution_count": 7,
   "metadata": {
    "colab": {
     "base_uri": "https://localhost:8080/"
    },
    "id": "5_e8eUXqW6_b",
    "outputId": "bc9b9f55-f9cd-4df8-85bc-3f12c659a9d9"
   },
   "outputs": [
    {
     "name": "stdout",
     "output_type": "stream",
     "text": [
      "+--------------------+\n",
      "|              sports|\n",
      "+--------------------+\n",
      "|          Gymnastics|\n",
      "|              Tennis|\n",
      "|              Boxing|\n",
      "|Short-Track Speed...|\n",
      "|          Ice Hockey|\n",
      "|              Rowing|\n",
      "|                Judo|\n",
      "|            Softball|\n",
      "|             Sailing|\n",
      "|            Swimming|\n",
      "|       Alpine Skiing|\n",
      "|          Basketball|\n",
      "|            Handball|\n",
      "| Rhythmic Gymnastics|\n",
      "|            Biathlon|\n",
      "|           Triathlon|\n",
      "|           Badminton|\n",
      "|           Athletics|\n",
      "|      Figure Skating|\n",
      "|    Beach Volleyball|\n",
      "|          Equestrian|\n",
      "|            Shooting|\n",
      "|              Diving|\n",
      "|            Skeleton|\n",
      "|         Ski Jumping|\n",
      "|     Nordic Combined|\n",
      "|           Wrestling|\n",
      "|       Speed Skating|\n",
      "|        Table Tennis|\n",
      "|           Taekwondo|\n",
      "|            Canoeing|\n",
      "|       Weightlifting|\n",
      "|           Waterpolo|\n",
      "|            Baseball|\n",
      "|   Modern Pentathlon|\n",
      "|        Snowboarding|\n",
      "|           Bobsleigh|\n",
      "|             Cycling|\n",
      "|Cross Country Skiing|\n",
      "|          Volleyball|\n",
      "|             Archery|\n",
      "|Synchronized Swim...|\n",
      "|             Curling|\n",
      "|             Fencing|\n",
      "|              Hockey|\n",
      "|    Freestyle Skiing|\n",
      "|            Football|\n",
      "|                Luge|\n",
      "|          Trampoline|\n",
      "+--------------------+\n",
      "\n",
      "Total Number of Sports/games in the dataset : 49\n"
     ]
    }
   ],
   "source": [
    "# selecting all the unique sports in the dataset\n",
    "n = olympix_df.select(\"sports\").distinct().count()\n",
    "olympix_df.select(\"sports\").distinct().show(n)\n",
    "\n",
    "# Printing the total no of sports/games in the dataset\n",
    "print(\"Total Number of Sports/games in the dataset :\",n)"
   ]
  },
  {
   "cell_type": "markdown",
   "metadata": {
    "id": "K8SNEGt-leAb"
   },
   "source": [
    "## Total Number of Medals in  each Olympic Sport/Game"
   ]
  },
  {
   "cell_type": "code",
   "execution_count": 8,
   "metadata": {
    "id": "iis2-qlHX0vI"
   },
   "outputs": [],
   "source": [
    "# importing the pandas library\n",
    "import pandas as pd\n",
    "import matplotlib.pyplot as plt\n",
    "%matplotlib inline\n",
    "import seaborn as sns"
   ]
  },
  {
   "cell_type": "code",
   "execution_count": 9,
   "metadata": {
    "colab": {
     "base_uri": "https://localhost:8080/",
     "height": 340
    },
    "id": "k90YZl7VmAYF",
    "outputId": "9fa94d1a-4b24-4d6b-b8ac-d6d6f18a37e0"
   },
   "outputs": [
    {
     "data": {
      "text/html": [
       "\n",
       "  <div id=\"df-fd85d1d5-8349-4f1f-b447-88a634fef40f\">\n",
       "    <div class=\"colab-df-container\">\n",
       "      <div>\n",
       "<style scoped>\n",
       "    .dataframe tbody tr th:only-of-type {\n",
       "        vertical-align: middle;\n",
       "    }\n",
       "\n",
       "    .dataframe tbody tr th {\n",
       "        vertical-align: top;\n",
       "    }\n",
       "\n",
       "    .dataframe thead th {\n",
       "        text-align: right;\n",
       "    }\n",
       "</style>\n",
       "<table border=\"1\" class=\"dataframe\">\n",
       "  <thead>\n",
       "    <tr style=\"text-align: right;\">\n",
       "      <th></th>\n",
       "      <th>name</th>\n",
       "      <th>age</th>\n",
       "      <th>country</th>\n",
       "      <th>year</th>\n",
       "      <th>Date_Given</th>\n",
       "      <th>sports</th>\n",
       "      <th>gold_medal</th>\n",
       "      <th>silver_medal</th>\n",
       "      <th>brone_medal</th>\n",
       "      <th>total_medal</th>\n",
       "    </tr>\n",
       "  </thead>\n",
       "  <tbody>\n",
       "    <tr>\n",
       "      <th>0</th>\n",
       "      <td>MichaelPhelps</td>\n",
       "      <td>23.0</td>\n",
       "      <td>United States</td>\n",
       "      <td>2008</td>\n",
       "      <td>2008-08-24</td>\n",
       "      <td>Swimming</td>\n",
       "      <td>8</td>\n",
       "      <td>0</td>\n",
       "      <td>0</td>\n",
       "      <td>8</td>\n",
       "    </tr>\n",
       "    <tr>\n",
       "      <th>1</th>\n",
       "      <td>MichaelPhelps</td>\n",
       "      <td>19.0</td>\n",
       "      <td>United States</td>\n",
       "      <td>2004</td>\n",
       "      <td>2004-08-29</td>\n",
       "      <td>Swimming</td>\n",
       "      <td>6</td>\n",
       "      <td>0</td>\n",
       "      <td>2</td>\n",
       "      <td>8</td>\n",
       "    </tr>\n",
       "    <tr>\n",
       "      <th>2</th>\n",
       "      <td>MichaelPhelps</td>\n",
       "      <td>27.0</td>\n",
       "      <td>United States</td>\n",
       "      <td>2012</td>\n",
       "      <td>2012-08-12</td>\n",
       "      <td>Swimming</td>\n",
       "      <td>4</td>\n",
       "      <td>2</td>\n",
       "      <td>0</td>\n",
       "      <td>6</td>\n",
       "    </tr>\n",
       "    <tr>\n",
       "      <th>3</th>\n",
       "      <td>NatalieCoughlin</td>\n",
       "      <td>25.0</td>\n",
       "      <td>United States</td>\n",
       "      <td>2008</td>\n",
       "      <td>2008-08-24</td>\n",
       "      <td>Swimming</td>\n",
       "      <td>1</td>\n",
       "      <td>2</td>\n",
       "      <td>3</td>\n",
       "      <td>6</td>\n",
       "    </tr>\n",
       "    <tr>\n",
       "      <th>4</th>\n",
       "      <td>AlekseyNemov</td>\n",
       "      <td>24.0</td>\n",
       "      <td>Russia</td>\n",
       "      <td>2000</td>\n",
       "      <td>2000-10-01</td>\n",
       "      <td>Gymnastics</td>\n",
       "      <td>2</td>\n",
       "      <td>1</td>\n",
       "      <td>3</td>\n",
       "      <td>6</td>\n",
       "    </tr>\n",
       "  </tbody>\n",
       "</table>\n",
       "</div>\n",
       "      <button class=\"colab-df-convert\" onclick=\"convertToInteractive('df-fd85d1d5-8349-4f1f-b447-88a634fef40f')\"\n",
       "              title=\"Convert this dataframe to an interactive table.\"\n",
       "              style=\"display:none;\">\n",
       "        \n",
       "  <svg xmlns=\"http://www.w3.org/2000/svg\" height=\"24px\"viewBox=\"0 0 24 24\"\n",
       "       width=\"24px\">\n",
       "    <path d=\"M0 0h24v24H0V0z\" fill=\"none\"/>\n",
       "    <path d=\"M18.56 5.44l.94 2.06.94-2.06 2.06-.94-2.06-.94-.94-2.06-.94 2.06-2.06.94zm-11 1L8.5 8.5l.94-2.06 2.06-.94-2.06-.94L8.5 2.5l-.94 2.06-2.06.94zm10 10l.94 2.06.94-2.06 2.06-.94-2.06-.94-.94-2.06-.94 2.06-2.06.94z\"/><path d=\"M17.41 7.96l-1.37-1.37c-.4-.4-.92-.59-1.43-.59-.52 0-1.04.2-1.43.59L10.3 9.45l-7.72 7.72c-.78.78-.78 2.05 0 2.83L4 21.41c.39.39.9.59 1.41.59.51 0 1.02-.2 1.41-.59l7.78-7.78 2.81-2.81c.8-.78.8-2.07 0-2.86zM5.41 20L4 18.59l7.72-7.72 1.47 1.35L5.41 20z\"/>\n",
       "  </svg>\n",
       "      </button>\n",
       "      \n",
       "  <style>\n",
       "    .colab-df-container {\n",
       "      display:flex;\n",
       "      flex-wrap:wrap;\n",
       "      gap: 12px;\n",
       "    }\n",
       "\n",
       "    .colab-df-convert {\n",
       "      background-color: #E8F0FE;\n",
       "      border: none;\n",
       "      border-radius: 50%;\n",
       "      cursor: pointer;\n",
       "      display: none;\n",
       "      fill: #1967D2;\n",
       "      height: 32px;\n",
       "      padding: 0 0 0 0;\n",
       "      width: 32px;\n",
       "    }\n",
       "\n",
       "    .colab-df-convert:hover {\n",
       "      background-color: #E2EBFA;\n",
       "      box-shadow: 0px 1px 2px rgba(60, 64, 67, 0.3), 0px 1px 3px 1px rgba(60, 64, 67, 0.15);\n",
       "      fill: #174EA6;\n",
       "    }\n",
       "\n",
       "    [theme=dark] .colab-df-convert {\n",
       "      background-color: #3B4455;\n",
       "      fill: #D2E3FC;\n",
       "    }\n",
       "\n",
       "    [theme=dark] .colab-df-convert:hover {\n",
       "      background-color: #434B5C;\n",
       "      box-shadow: 0px 1px 3px 1px rgba(0, 0, 0, 0.15);\n",
       "      filter: drop-shadow(0px 1px 2px rgba(0, 0, 0, 0.3));\n",
       "      fill: #FFFFFF;\n",
       "    }\n",
       "  </style>\n",
       "\n",
       "      <script>\n",
       "        const buttonEl =\n",
       "          document.querySelector('#df-fd85d1d5-8349-4f1f-b447-88a634fef40f button.colab-df-convert');\n",
       "        buttonEl.style.display =\n",
       "          google.colab.kernel.accessAllowed ? 'block' : 'none';\n",
       "\n",
       "        async function convertToInteractive(key) {\n",
       "          const element = document.querySelector('#df-fd85d1d5-8349-4f1f-b447-88a634fef40f');\n",
       "          const dataTable =\n",
       "            await google.colab.kernel.invokeFunction('convertToInteractive',\n",
       "                                                     [key], {});\n",
       "          if (!dataTable) return;\n",
       "\n",
       "          const docLinkHtml = 'Like what you see? Visit the ' +\n",
       "            '<a target=\"_blank\" href=https://colab.research.google.com/notebooks/data_table.ipynb>data table notebook</a>'\n",
       "            + ' to learn more about interactive tables.';\n",
       "          element.innerHTML = '';\n",
       "          dataTable['output_type'] = 'display_data';\n",
       "          await google.colab.output.renderOutput(dataTable, element);\n",
       "          const docLink = document.createElement('div');\n",
       "          docLink.innerHTML = docLinkHtml;\n",
       "          element.appendChild(docLink);\n",
       "        }\n",
       "      </script>\n",
       "    </div>\n",
       "  </div>\n",
       "  "
      ],
      "text/plain": [
       "              name   age        country  year  Date_Given      sports  \\\n",
       "0    MichaelPhelps  23.0  United States  2008  2008-08-24    Swimming   \n",
       "1    MichaelPhelps  19.0  United States  2004  2004-08-29    Swimming   \n",
       "2    MichaelPhelps  27.0  United States  2012  2012-08-12    Swimming   \n",
       "3  NatalieCoughlin  25.0  United States  2008  2008-08-24    Swimming   \n",
       "4     AlekseyNemov  24.0         Russia  2000  2000-10-01  Gymnastics   \n",
       "\n",
       "   gold_medal  silver_medal  brone_medal  total_medal  \n",
       "0           8             0            0            8  \n",
       "1           6             0            2            8  \n",
       "2           4             2            0            6  \n",
       "3           1             2            3            6  \n",
       "4           2             1            3            6  "
      ]
     },
     "execution_count": 9,
     "metadata": {},
     "output_type": "execute_result"
    }
   ],
   "source": [
    "# converting the pyspark dataframe to pandas dataframe\n",
    "olympix_Pdf = olympix_df.toPandas()\n",
    "olympix_Pdf.head()"
   ]
  },
  {
   "cell_type": "code",
   "execution_count": 10,
   "metadata": {
    "colab": {
     "base_uri": "https://localhost:8080/",
     "height": 612
    },
    "id": "tvwM_jjcmMVG",
    "outputId": "bc3b6a79-8b96-4027-d9f1-858dcf153570"
   },
   "outputs": [
    {
     "data": {
      "image/png": "[encoded data removed]",
      "text/plain": [
       "<Figure size 864x648 with 1 Axes>"
      ]
     },
     "metadata": {},
     "output_type": "display_data"
    }
   ],
   "source": [
    "# setting the figure size\n",
    "sns.set(rc={'figure.figsize':(12,9)})\n",
    "\n",
    "# Grouping by the sport and picking top 10 sports\n",
    "top_sports = olympix_Pdf.groupby(\"sports\").agg({'total_medal':sum}).sort_values(['total_medal'],ascending = False).head(20)\n",
    "top_sports = top_sports.reset_index()\n",
    "\n",
    "# barplot\n",
    "sns.barplot(x = 'sports' ,y='total_medal',data = top_sports, order = top_sports.sports)\n",
    "plt.xticks(rotation = 40)\n",
    "plt.xlabel(\"Sports\")\n",
    "plt.ylabel(\"Total Medals\")\n",
    "plt.title(\"Top 20 Sports that Won most Total Medals\")\n",
    "\n",
    "for i,df in enumerate(top_sports.total_medal):\n",
    "    plt.text(i,df,str(df))   # ploting the counts of categiers"
   ]
  },
  {
   "cell_type": "markdown",
   "metadata": {
    "id": "EdsH6hJVoq-O"
   },
   "source": [
    "By the above figure, The most medals are won in Swimming sport(765), second most medals are won in Atheletics sport(753) and followed by Rowing sport(576). These are the top three sports in which most medals are won"
   ]
  },
  {
   "cell_type": "markdown",
   "metadata": {
    "id": "mBN2bCT-JljG"
   },
   "source": [
    "##  Total Number of Medals won by each Country in Swimming."
   ]
  },
  {
   "cell_type": "code",
   "execution_count": 11,
   "metadata": {
    "colab": {
     "base_uri": "https://localhost:8080/"
    },
    "id": "hgga_Lp1Jrut",
    "outputId": "1da17095-3a19-4dd3-f177-000b7682f506"
   },
   "outputs": [
    {
     "name": "stdout",
     "output_type": "stream",
     "text": [
      "+-------------------+-------------------------------+\n",
      "|            country|Total Medals in Swimming Sport |\n",
      "+-------------------+-------------------------------+\n",
      "|      United States|                            267|\n",
      "|          Australia|                            163|\n",
      "|        Netherlands|                             46|\n",
      "|              Japan|                             43|\n",
      "|             France|                             39|\n",
      "|              China|                             35|\n",
      "|            Germany|                             32|\n",
      "|             Russia|                             20|\n",
      "|              Italy|                             16|\n",
      "|      Great Britain|                             11|\n",
      "|       South Africa|                             11|\n",
      "|             Sweden|                              9|\n",
      "|            Hungary|                              9|\n",
      "|             Brazil|                              8|\n",
      "|            Ukraine|                              7|\n",
      "|           Zimbabwe|                              7|\n",
      "|            Romania|                              6|\n",
      "|             Canada|                              5|\n",
      "|        South Korea|                              4|\n",
      "|             Poland|                              3|\n",
      "|            Austria|                              3|\n",
      "|            Tunisia|                              3|\n",
      "|              Spain|                              3|\n",
      "|             Norway|                              2|\n",
      "|         Costa Rica|                              2|\n",
      "|            Belarus|                              2|\n",
      "|           Slovakia|                              2|\n",
      "|          Argentina|                              1|\n",
      "|Trinidad and Tobago|                              1|\n",
      "|            Croatia|                              1|\n",
      "|           Slovenia|                              1|\n",
      "|          Lithuania|                              1|\n",
      "|             Serbia|                              1|\n",
      "|            Denmark|                              1|\n",
      "+-------------------+-------------------------------+\n",
      "\n"
     ]
    }
   ],
   "source": [
    "# filtering the data where sport is equal to Swimming\n",
    "Swimming_medal = olympix_df.filter(olympix_df[\"sports\"] == 'Swimming')\n",
    "\n",
    "# groupby the country and counting total medals\n",
    "Swimming_medals= Swimming_medal.groupby('country').sum('total_medal').withColumnRenamed(\"sum(total_medal)\",\"Total Medals in Swimming Sport \")\n",
    "n = Swimming_medals.count()\n",
    "Swimming_medals.orderBy(f.desc(\"sum(total_medal)\")).show(n)\n"
   ]
  },
  {
   "cell_type": "markdown",
   "metadata": {
    "id": "g5N1NxI-LUhl"
   },
   "source": [
    "**Observation :**\n",
    "The Top 3 Countries that won Most No of Medals in Swimming sport\n",
    "* United States (267)\n",
    "* Australia (163)\n",
    "* Netherlands (46)"
   ]
  },
  {
   "cell_type": "markdown",
   "metadata": {
    "id": "JBX3cUtKFKdf"
   },
   "source": [
    "## Total Number of Medals won by each Country in Skeleton"
   ]
  },
  {
   "cell_type": "code",
   "execution_count": 12,
   "metadata": {
    "colab": {
     "base_uri": "https://localhost:8080/"
    },
    "id": "u4WRFvZKr7FG",
    "outputId": "47311e34-e87a-4265-8f50-9fe2056fc66b"
   },
   "outputs": [
    {
     "name": "stdout",
     "output_type": "stream",
     "text": [
      "+-------------+-------------------------------+\n",
      "|      country|Total Medals in Skeleton Sport |\n",
      "+-------------+-------------------------------+\n",
      "|       Canada|                              4|\n",
      "|Great Britain|                              3|\n",
      "|  Switzerland|                              3|\n",
      "|United States|                              3|\n",
      "|      Germany|                              2|\n",
      "|       Russia|                              1|\n",
      "|      Austria|                              1|\n",
      "|       Latvia|                              1|\n",
      "+-------------+-------------------------------+\n",
      "\n"
     ]
    }
   ],
   "source": [
    "# filtering the data where sport is equal to Skeleton\n",
    "skeleton_medal = olympix_df.filter(olympix_df[\"sports\"] == 'Skeleton')\n",
    "\n",
    "# groupby the country and counting total medals\n",
    "skeleton_medals = skeleton_medal.groupby('country').sum('total_medal').withColumnRenamed(\"sum(total_medal)\",\"Total Medals in Skeleton Sport \")\n",
    "skeleton_medals.orderBy(f.desc(\"sum(total_medal)\")).show()"
   ]
  },
  {
   "cell_type": "markdown",
   "metadata": {
    "id": "_p6VwPavILAh"
   },
   "source": [
    "**Observation :**\n",
    "* Canada has the most No of Total medals in Skeleton sport(4), followed by Great Britain(3), Switzerland(3), United States(3), Germany(2), Russia(1), Austrila(1) and Latvia(1).<br>\n",
    "* These are the 8 countries that have won Total medals in Skeleton sport.\n",
    "* Other Countries not won any medal in skeleton sport."
   ]
  },
  {
   "cell_type": "markdown",
   "metadata": {
    "id": "DUCRBrqiJNXT"
   },
   "source": [
    "## Total Number of medals that the US won yearly."
   ]
  },
  {
   "cell_type": "code",
   "execution_count": 13,
   "metadata": {
    "colab": {
     "base_uri": "https://localhost:8080/"
    },
    "id": "mAcQSf8rFWxS",
    "outputId": "5cb8e4d7-b3c5-4f67-fb03-5f341a3160cf"
   },
   "outputs": [
    {
     "name": "stdout",
     "output_type": "stream",
     "text": [
      "+----+---------------------------------------+\n",
      "|year|Total Number of medals of US won yearly|\n",
      "+----+---------------------------------------+\n",
      "|2000|                                    243|\n",
      "|2002|                                     84|\n",
      "|2004|                                    265|\n",
      "|2006|                                     52|\n",
      "|2008|                                    317|\n",
      "|2010|                                     97|\n",
      "|2012|                                    254|\n",
      "+----+---------------------------------------+\n",
      "\n"
     ]
    }
   ],
   "source": [
    "# filtering the data where Country is equal to United States\n",
    "US_medal = olympix_df.filter(olympix_df[\"country\"] == 'United States')\n",
    "\n",
    "# groupby the year and counting total medals\n",
    "US_medals = US_medal.groupby('year').sum('total_medal').withColumnRenamed(\"sum(total_medal)\",\"Total Number of medals of US won yearly\")\n",
    "US_medals.orderBy(f.asc('year')).show()"
   ]
  },
  {
   "cell_type": "markdown",
   "metadata": {
    "id": "A0COVzxrNtWi"
   },
   "source": [
    "**United States won most Total Number of medals in the year 2008 (317).** "
   ]
  },
  {
   "cell_type": "markdown",
   "metadata": {
    "id": "wuFYQf7NPBgW"
   },
   "source": [
    "## Total Number of Medals won by each Country"
   ]
  },
  {
   "cell_type": "code",
   "execution_count": 14,
   "metadata": {
    "colab": {
     "base_uri": "https://localhost:8080/"
    },
    "id": "KZZKZB9BNLPz",
    "outputId": "bbc79952-7e88-4346-ca13-b5342575c2ee"
   },
   "outputs": [
    {
     "name": "stdout",
     "output_type": "stream",
     "text": [
      "+--------------------+------------+\n",
      "|             country|Total Medals|\n",
      "+--------------------+------------+\n",
      "|       United States|        1312|\n",
      "|              Russia|         768|\n",
      "|             Germany|         629|\n",
      "|           Australia|         609|\n",
      "|               China|         530|\n",
      "|              Canada|         370|\n",
      "|               Italy|         331|\n",
      "|       Great Britain|         322|\n",
      "|              France|         318|\n",
      "|         Netherlands|         318|\n",
      "|         South Korea|         308|\n",
      "|               Japan|         282|\n",
      "|              Brazil|         218|\n",
      "|               Spain|         205|\n",
      "|              Norway|         192|\n",
      "|                Cuba|         188|\n",
      "|              Sweden|         181|\n",
      "|             Hungary|         145|\n",
      "|             Ukraine|         143|\n",
      "|           Argentina|         139|\n",
      "|             Romania|         123|\n",
      "|             Finland|         118|\n",
      "|             Belarus|          97|\n",
      "|         Switzerland|          93|\n",
      "|             Austria|          91|\n",
      "|             Denmark|          89|\n",
      "|             Croatia|          81|\n",
      "|      Czech Republic|          81|\n",
      "|              Poland|          80|\n",
      "|             Jamaica|          80|\n",
      "|              Greece|          59|\n",
      "|         New Zealand|          52|\n",
      "|          Kazakhstan|          42|\n",
      "|            Bulgaria|          41|\n",
      "|             Nigeria|          39|\n",
      "|               Kenya|          39|\n",
      "|              Mexico|          38|\n",
      "|Serbia and Monten...|          38|\n",
      "|            Slovakia|          35|\n",
      "|              Serbia|          31|\n",
      "|           Lithuania|          30|\n",
      "|            Ethiopia|          29|\n",
      "|              Turkey|          28|\n",
      "|          Azerbaijan|          25|\n",
      "|        South Africa|          25|\n",
      "|            Slovenia|          25|\n",
      "|             Bahamas|          24|\n",
      "|                Iran|          24|\n",
      "|             Georgia|          23|\n",
      "|               Chile|          22|\n",
      "|           Indonesia|          22|\n",
      "|         North Korea|          21|\n",
      "|      Chinese Taipei|          20|\n",
      "|            Cameroon|          20|\n",
      "| Trinidad and Tobago|          19|\n",
      "|          Uzbekistan|          19|\n",
      "|             Estonia|          18|\n",
      "|             Belgium|          18|\n",
      "|            Thailand|          18|\n",
      "|            Paraguay|          17|\n",
      "|              Latvia|          17|\n",
      "|             Iceland|          15|\n",
      "|          Montenegro|          14|\n",
      "|            Colombia|          13|\n",
      "|               India|          11|\n",
      "|             Morocco|          11|\n",
      "|            Mongolia|          10|\n",
      "|             Armenia|          10|\n",
      "|             Ireland|           9|\n",
      "|            Portugal|           9|\n",
      "|               Egypt|           8|\n",
      "|             Algeria|           8|\n",
      "|           Singapore|           7|\n",
      "|            Zimbabwe|           7|\n",
      "|        Saudi Arabia|           6|\n",
      "|  Dominican Republic|           5|\n",
      "|             Moldova|           5|\n",
      "|              Israel|           4|\n",
      "|             Tunisia|           4|\n",
      "|           Venezuela|           4|\n",
      "|               Qatar|           3|\n",
      "|          Tajikistan|           3|\n",
      "|           Hong Kong|           3|\n",
      "|          Kyrgyzstan|           3|\n",
      "|            Malaysia|           3|\n",
      "|          Costa Rica|           2|\n",
      "|             Vietnam|           2|\n",
      "|         Puerto Rico|           2|\n",
      "|         Afghanistan|           2|\n",
      "|              Kuwait|           2|\n",
      "|             Eritrea|           1|\n",
      "|               Sudan|           1|\n",
      "|               Gabon|           1|\n",
      "|           Sri Lanka|           1|\n",
      "|            Barbados|           1|\n",
      "|                Togo|           1|\n",
      "|              Panama|           1|\n",
      "|              Uganda|           1|\n",
      "|             Ecuador|           1|\n",
      "|              Cyprus|           1|\n",
      "|             Uruguay|           1|\n",
      "|United Arab Emirates|           1|\n",
      "|            Botswana|           1|\n",
      "|           Guatemala|           1|\n",
      "|             Grenada|           1|\n",
      "|           Macedonia|           1|\n",
      "|             Bahrain|           1|\n",
      "|           Mauritius|           1|\n",
      "|               Syria|           1|\n",
      "|          Mozambique|           1|\n",
      "+--------------------+------------+\n",
      "\n"
     ]
    }
   ],
   "source": [
    "# groupby the country and counting total medals\n",
    "country_medal = olympix_df.groupby('country').sum('total_medal').withColumnRenamed('sum(total_medal)','Total Medals')\n",
    "n = country_medal.count()\n",
    "\n",
    "# sorting total medals in descending order \n",
    "country_medal.orderBy(f.desc('sum(total_medal)')).show(n)"
   ]
  },
  {
   "cell_type": "markdown",
   "metadata": {
    "id": "KGpMVJtFSnlh"
   },
   "source": [
    "**Observation :**\n",
    "United States has Won the most total medals (1312)."
   ]
  },
  {
   "cell_type": "markdown",
   "metadata": {
    "id": "fPuJcrRAS9Ic"
   },
   "source": [
    "## Oldest Athlete in the olympics"
   ]
  },
  {
   "cell_type": "code",
   "execution_count": 26,
   "metadata": {
    "colab": {
     "base_uri": "https://localhost:8080/"
    },
    "id": "-4TwkXV7PXnr",
    "outputId": "2081dff8-380b-42d3-9607-3ec4803bb317"
   },
   "outputs": [
    {
     "name": "stdout",
     "output_type": "stream",
     "text": [
      "Maximum age in the dataset : [Row(max(age)=61.0)]\n"
     ]
    }
   ],
   "source": [
    "# Finding the age of the Oldest athlete in olympics\n",
    "n = olympix_df.select(f.max('age'))\n",
    "print(\"Maximum age in the olympics :\",n.collect())"
   ]
  },
  {
   "cell_type": "code",
   "execution_count": 28,
   "metadata": {
    "colab": {
     "base_uri": "https://localhost:8080/"
    },
    "id": "PQvQnzUGUU-H",
    "outputId": "060916d0-2dfb-4d8c-f1f6-60e96428e5b2"
   },
   "outputs": [
    {
     "name": "stdout",
     "output_type": "stream",
     "text": [
      "+--------------------+----+-------+----+----------+----------+----------+------------+-----------+-----------+\n",
      "|                name| age|country|year|Date_Given|    sports|gold_medal|silver_medal|brone_medal|total_medal|\n",
      "+--------------------+----+-------+----+----------+----------+----------+------------+-----------+-----------+\n",
      "|NiklausSchurtenbe...|61.0| Canada|2008|2008-08-24|Equestrian|         0|           1|          0|          1|\n",
      "+--------------------+----+-------+----+----------+----------+----------+------------+-----------+-----------+\n",
      "\n"
     ]
    }
   ],
   "source": [
    "# filter the athlete with highest age\n",
    "oldest = olympix_df.filter(olympix_df['age'] == 61.0)\n",
    "oldest.show()"
   ]
  },
  {
   "cell_type": "markdown",
   "metadata": {
    "id": "_6SIHCFUCldZ"
   },
   "source": [
    "The Oldest Athlete in the olympics is **Niklaus Schurtenberger** and he is from **Canada** Country."
   ]
  }
 ],
 "metadata": {
  "colab": {
   "collapsed_sections": [],
   "name": "J Uday Bhaskar_PySpark_CapstoneProject.ipynb",
   "provenance": []
  },
  "kernelspec": {
   "display_name": "Python 3 (ipykernel)",
   "language": "python",
   "name": "python3"
  },
  "language_info": {
   "codemirror_mode": {
    "name": "ipython",
    "version": 3
   },
   "file_extension": ".py",
   "mimetype": "text/x-python",
   "name": "python",
   "nbconvert_exporter": "python",
   "pygments_lexer": "ipython3",
   "version": "3.9.7"
  }
 },
 "nbformat": 4,
 "nbformat_minor": 1
}
