{
 "cells": [
  {
   "cell_type": "markdown",
   "id": "fa4198a4",
   "metadata": {},
   "source": [
    "# Olympics Dataset - Case Study"
   ]
  },
  {
   "attachments": {
    "Olympics%20.png": {
     "image/png": "[encoded data removed]"
    }
   },
   "cell_type": "markdown",
   "id": "0d6a5b9b",
   "metadata": {},
   "source": [
    "![Olympics%20.png](attachment:Olympics%20.png)"
   ]
  },
  {
   "cell_type": "markdown",
   "id": "bb17f3b7",
   "metadata": {},
   "source": [
    "# Introduction"
   ]
  },
  {
   "cell_type": "markdown",
   "id": "ac5b8acd",
   "metadata": {},
   "source": [
    "The Olympic Games, considered to be the world's foremost sports competition has more than 200 nations participating across the Summer and Winter Games alternating by occurring every four years but two years apart.<br>\n",
    "\n",
    "In this project, we are going to see the Olympics Data analysis using Python.The modern Olympic Games or Olympics are leading international sports events featuring summer and winter sports competitions in which thousands of athletes from around the world participate in a variety of competitions. The Olympic Games are considered the world’s foremost sports competition with more than 200 nations participating. Around 110 countiers have won the medals in different category of sports. Totally there are 49 sports. The Dataset contains the olympics winners from year 2000 to 2012.<br></br>\n",
    "For every event there are three winners ( like Gold Medal, Silver Medal and Bronze Medal ). Therefore various data is generated. So, by using Python I will analyze this data.<br></br>"
   ]
  },
  {
   "cell_type": "markdown",
   "id": "d267578d",
   "metadata": {},
   "source": [
    "## Problem Statement:"
   ]
  },
  {
   "cell_type": "markdown",
   "id": "b74e785f",
   "metadata": {},
   "source": [
    "Throughout this project, I will explore the Olympics dataset, clean the data and look at some interesting statistics and then try to find out which country has won more number of Medals in Olympic Games."
   ]
  },
  {
   "cell_type": "markdown",
   "id": "c878720e",
   "metadata": {},
   "source": [
    "## Data Set Characteristics:"
   ]
  },
  {
   "cell_type": "markdown",
   "id": "34e3ad99",
   "metadata": {},
   "source": [
    "Number of Observations in Data set : 8618\n",
    "<br></br>\n",
    "Number of features : 10\n"
   ]
  },
  {
   "cell_type": "markdown",
   "id": "b48082e4",
   "metadata": {},
   "source": [
    "## Feature Description"
   ]
  },
  {
   "cell_type": "markdown",
   "id": "46aae686",
   "metadata": {},
   "source": [
    "|Feature|Data Type|Description|\n",
    "|--------|---------|-----------|\n",
    "|Name | Object | Name of the player|\n",
    "|Age | Integer | Age of the player|\n",
    "|Country | Object | Name of the country(player belongs to)|\n",
    "|Year | Integer |  The year of the Olympics that the athlete competed in|\n",
    "|Date Given | Object | The date which player won the Medal |\n",
    "|Sports | Object |  The sport that the athlete competed in|\n",
    "|Gold medal | Integer | No of gold medals won |\n",
    "|Silver medal | Integer | No of Silver medals won |\n",
    "|Bronze medal | Integer | No of Bronze medals won |\n",
    "|Total medals | Integer | No of Total medals won |"
   ]
  },
  {
   "cell_type": "markdown",
   "id": "2fb0bec7",
   "metadata": {},
   "source": [
    "## Import Dependecies"
   ]
  },
  {
   "cell_type": "code",
   "execution_count": 1,
   "id": "aa121524",
   "metadata": {},
   "outputs": [],
   "source": [
    "import numpy as np\n",
    "import pandas as pd\n",
    "import matplotlib.pyplot as plt\n",
    "%matplotlib inline\n",
    "import seaborn as sns\n",
    "import missingno as msno\n",
    "\n",
    "## Display all the columns in a dataframe\n",
    "pd.pandas.set_option('display.max_columns',None)\n",
    "\n",
    "# import warning library\n",
    "import warnings\n",
    "warnings.filterwarnings(\"ignore\")"
   ]
  },
  {
   "cell_type": "markdown",
   "id": "f076142d",
   "metadata": {},
   "source": [
    "## Loading the Dataset"
   ]
  },
  {
   "cell_type": "code",
   "execution_count": 2,
   "id": "8fae4d62",
   "metadata": {},
   "outputs": [
    {
     "data": {
      "text/html": [
       "<div>\n",
       "<style scoped>\n",
       "    .dataframe tbody tr th:only-of-type {\n",
       "        vertical-align: middle;\n",
       "    }\n",
       "\n",
       "    .dataframe tbody tr th {\n",
       "        vertical-align: top;\n",
       "    }\n",
       "\n",
       "    .dataframe thead th {\n",
       "        text-align: right;\n",
       "    }\n",
       "</style>\n",
       "<table border=\"1\" class=\"dataframe\">\n",
       "  <thead>\n",
       "    <tr style=\"text-align: right;\">\n",
       "      <th></th>\n",
       "      <th>name</th>\n",
       "      <th>age</th>\n",
       "      <th>country</th>\n",
       "      <th>year</th>\n",
       "      <th>Date_Given</th>\n",
       "      <th>sports</th>\n",
       "      <th>gold_medal</th>\n",
       "      <th>silver_medal</th>\n",
       "      <th>brone_medal</th>\n",
       "      <th>total_medal</th>\n",
       "    </tr>\n",
       "  </thead>\n",
       "  <tbody>\n",
       "    <tr>\n",
       "      <th>0</th>\n",
       "      <td>Michael Phelps</td>\n",
       "      <td>23.0</td>\n",
       "      <td>United States</td>\n",
       "      <td>2008</td>\n",
       "      <td>8/24/2008</td>\n",
       "      <td>Swimming</td>\n",
       "      <td>8</td>\n",
       "      <td>0</td>\n",
       "      <td>0</td>\n",
       "      <td>8</td>\n",
       "    </tr>\n",
       "    <tr>\n",
       "      <th>1</th>\n",
       "      <td>Michael Phelps</td>\n",
       "      <td>19.0</td>\n",
       "      <td>United States</td>\n",
       "      <td>2004</td>\n",
       "      <td>8/29/2004</td>\n",
       "      <td>Swimming</td>\n",
       "      <td>6</td>\n",
       "      <td>0</td>\n",
       "      <td>2</td>\n",
       "      <td>8</td>\n",
       "    </tr>\n",
       "    <tr>\n",
       "      <th>2</th>\n",
       "      <td>Michael Phelps</td>\n",
       "      <td>27.0</td>\n",
       "      <td>United States</td>\n",
       "      <td>2012</td>\n",
       "      <td>8/12/2012</td>\n",
       "      <td>Swimming</td>\n",
       "      <td>4</td>\n",
       "      <td>2</td>\n",
       "      <td>0</td>\n",
       "      <td>6</td>\n",
       "    </tr>\n",
       "    <tr>\n",
       "      <th>3</th>\n",
       "      <td>Natalie Coughlin</td>\n",
       "      <td>25.0</td>\n",
       "      <td>United States</td>\n",
       "      <td>2008</td>\n",
       "      <td>8/24/2008</td>\n",
       "      <td>Swimming</td>\n",
       "      <td>1</td>\n",
       "      <td>2</td>\n",
       "      <td>3</td>\n",
       "      <td>6</td>\n",
       "    </tr>\n",
       "    <tr>\n",
       "      <th>4</th>\n",
       "      <td>Aleksey Nemov</td>\n",
       "      <td>24.0</td>\n",
       "      <td>Russia</td>\n",
       "      <td>2000</td>\n",
       "      <td>10/1/2000</td>\n",
       "      <td>Gymnastics</td>\n",
       "      <td>2</td>\n",
       "      <td>1</td>\n",
       "      <td>3</td>\n",
       "      <td>6</td>\n",
       "    </tr>\n",
       "  </tbody>\n",
       "</table>\n",
       "</div>"
      ],
      "text/plain": [
       "               name   age        country  year Date_Given      sports  \\\n",
       "0    Michael Phelps  23.0  United States  2008  8/24/2008    Swimming   \n",
       "1    Michael Phelps  19.0  United States  2004  8/29/2004    Swimming   \n",
       "2    Michael Phelps  27.0  United States  2012  8/12/2012    Swimming   \n",
       "3  Natalie Coughlin  25.0  United States  2008  8/24/2008    Swimming   \n",
       "4     Aleksey Nemov  24.0         Russia  2000  10/1/2000  Gymnastics   \n",
       "\n",
       "   gold_medal  silver_medal  brone_medal  total_medal  \n",
       "0           8             0            0            8  \n",
       "1           6             0            2            8  \n",
       "2           4             2            0            6  \n",
       "3           1             2            3            6  \n",
       "4           2             1            3            6  "
      ]
     },
     "execution_count": 2,
     "metadata": {},
     "output_type": "execute_result"
    }
   ],
   "source": [
    "olympix_df = pd.read_csv(r'olympix_data_organized_with_header (1).csv')\n",
    "olympix_df.head(5)  # printing first 5 rows"
   ]
  },
  {
   "cell_type": "code",
   "execution_count": 3,
   "id": "fe6cd436",
   "metadata": {},
   "outputs": [
    {
     "data": {
      "text/html": [
       "<div>\n",
       "<style scoped>\n",
       "    .dataframe tbody tr th:only-of-type {\n",
       "        vertical-align: middle;\n",
       "    }\n",
       "\n",
       "    .dataframe tbody tr th {\n",
       "        vertical-align: top;\n",
       "    }\n",
       "\n",
       "    .dataframe thead th {\n",
       "        text-align: right;\n",
       "    }\n",
       "</style>\n",
       "<table border=\"1\" class=\"dataframe\">\n",
       "  <thead>\n",
       "    <tr style=\"text-align: right;\">\n",
       "      <th></th>\n",
       "      <th>name</th>\n",
       "      <th>age</th>\n",
       "      <th>country</th>\n",
       "      <th>year</th>\n",
       "      <th>Date_Given</th>\n",
       "      <th>sports</th>\n",
       "      <th>gold_medal</th>\n",
       "      <th>silver_medal</th>\n",
       "      <th>brone_medal</th>\n",
       "      <th>total_medal</th>\n",
       "    </tr>\n",
       "  </thead>\n",
       "  <tbody>\n",
       "    <tr>\n",
       "      <th>8613</th>\n",
       "      <td>Olena Sadovnycha</td>\n",
       "      <td>32.0</td>\n",
       "      <td>Ukraine</td>\n",
       "      <td>2000</td>\n",
       "      <td>10/1/2000</td>\n",
       "      <td>Archery</td>\n",
       "      <td>0</td>\n",
       "      <td>1</td>\n",
       "      <td>0</td>\n",
       "      <td>1</td>\n",
       "    </tr>\n",
       "    <tr>\n",
       "      <th>8614</th>\n",
       "      <td>Kateryna Serdiuk</td>\n",
       "      <td>17.0</td>\n",
       "      <td>Ukraine</td>\n",
       "      <td>2000</td>\n",
       "      <td>10/1/2000</td>\n",
       "      <td>Archery</td>\n",
       "      <td>0</td>\n",
       "      <td>1</td>\n",
       "      <td>0</td>\n",
       "      <td>1</td>\n",
       "    </tr>\n",
       "    <tr>\n",
       "      <th>8615</th>\n",
       "      <td>Wietse van Alten</td>\n",
       "      <td>21.0</td>\n",
       "      <td>Netherlands</td>\n",
       "      <td>2000</td>\n",
       "      <td>10/1/2000</td>\n",
       "      <td>Archery</td>\n",
       "      <td>0</td>\n",
       "      <td>0</td>\n",
       "      <td>1</td>\n",
       "      <td>1</td>\n",
       "    </tr>\n",
       "    <tr>\n",
       "      <th>8616</th>\n",
       "      <td>Sandra Wagner-Sachse</td>\n",
       "      <td>31.0</td>\n",
       "      <td>Germany</td>\n",
       "      <td>2000</td>\n",
       "      <td>10/1/2000</td>\n",
       "      <td>Archery</td>\n",
       "      <td>0</td>\n",
       "      <td>0</td>\n",
       "      <td>1</td>\n",
       "      <td>1</td>\n",
       "    </tr>\n",
       "    <tr>\n",
       "      <th>8617</th>\n",
       "      <td>Rod White</td>\n",
       "      <td>23.0</td>\n",
       "      <td>United States</td>\n",
       "      <td>2000</td>\n",
       "      <td>10/1/2000</td>\n",
       "      <td>Archery</td>\n",
       "      <td>0</td>\n",
       "      <td>0</td>\n",
       "      <td>1</td>\n",
       "      <td>1</td>\n",
       "    </tr>\n",
       "  </tbody>\n",
       "</table>\n",
       "</div>"
      ],
      "text/plain": [
       "                      name   age        country  year Date_Given   sports  \\\n",
       "8613      Olena Sadovnycha  32.0        Ukraine  2000  10/1/2000  Archery   \n",
       "8614      Kateryna Serdiuk  17.0        Ukraine  2000  10/1/2000  Archery   \n",
       "8615      Wietse van Alten  21.0    Netherlands  2000  10/1/2000  Archery   \n",
       "8616  Sandra Wagner-Sachse  31.0        Germany  2000  10/1/2000  Archery   \n",
       "8617             Rod White  23.0  United States  2000  10/1/2000  Archery   \n",
       "\n",
       "      gold_medal  silver_medal  brone_medal  total_medal  \n",
       "8613           0             1            0            1  \n",
       "8614           0             1            0            1  \n",
       "8615           0             0            1            1  \n",
       "8616           0             0            1            1  \n",
       "8617           0             0            1            1  "
      ]
     },
     "execution_count": 3,
     "metadata": {},
     "output_type": "execute_result"
    }
   ],
   "source": [
    "olympix_df.tail(5)  # printing last 5 rows"
   ]
  },
  {
   "cell_type": "code",
   "execution_count": 4,
   "id": "6b867a0d",
   "metadata": {},
   "outputs": [
    {
     "data": {
      "text/plain": [
       "(8618, 10)"
      ]
     },
     "execution_count": 4,
     "metadata": {},
     "output_type": "execute_result"
    }
   ],
   "source": [
    "# finding shape of data set\n",
    "olympix_df.shape "
   ]
  },
  {
   "cell_type": "markdown",
   "id": "a5c2e9b0",
   "metadata": {},
   "source": [
    "In this Data Frame, there are 8618 Observations and 10 Features."
   ]
  },
  {
   "cell_type": "markdown",
   "id": "7883e9fe",
   "metadata": {},
   "source": [
    "## Exploration of the data"
   ]
  },
  {
   "cell_type": "code",
   "execution_count": 5,
   "id": "5b2eaa02",
   "metadata": {},
   "outputs": [
    {
     "name": "stdout",
     "output_type": "stream",
     "text": [
      "<class 'pandas.core.frame.DataFrame'>\n",
      "RangeIndex: 8618 entries, 0 to 8617\n",
      "Data columns (total 10 columns):\n",
      " #   Column        Non-Null Count  Dtype  \n",
      "---  ------        --------------  -----  \n",
      " 0   name          8613 non-null   object \n",
      " 1   age           8613 non-null   float64\n",
      " 2   country       8618 non-null   object \n",
      " 3   year          8618 non-null   int64  \n",
      " 4   Date_Given    8618 non-null   object \n",
      " 5   sports        8618 non-null   object \n",
      " 6   gold_medal    8618 non-null   int64  \n",
      " 7   silver_medal  8618 non-null   int64  \n",
      " 8   brone_medal   8618 non-null   int64  \n",
      " 9   total_medal   8618 non-null   int64  \n",
      "dtypes: float64(1), int64(5), object(4)\n",
      "memory usage: 673.4+ KB\n"
     ]
    }
   ],
   "source": [
    "# information about all the features\n",
    "olympix_df.info()"
   ]
  },
  {
   "cell_type": "markdown",
   "id": "5a3a6eec",
   "metadata": {},
   "source": [
    "### Statistical summary of the dataframe"
   ]
  },
  {
   "cell_type": "code",
   "execution_count": 6,
   "id": "afe73dc4",
   "metadata": {},
   "outputs": [
    {
     "data": {
      "text/html": [
       "<div>\n",
       "<style scoped>\n",
       "    .dataframe tbody tr th:only-of-type {\n",
       "        vertical-align: middle;\n",
       "    }\n",
       "\n",
       "    .dataframe tbody tr th {\n",
       "        vertical-align: top;\n",
       "    }\n",
       "\n",
       "    .dataframe thead th {\n",
       "        text-align: right;\n",
       "    }\n",
       "</style>\n",
       "<table border=\"1\" class=\"dataframe\">\n",
       "  <thead>\n",
       "    <tr style=\"text-align: right;\">\n",
       "      <th></th>\n",
       "      <th>age</th>\n",
       "      <th>year</th>\n",
       "      <th>gold_medal</th>\n",
       "      <th>silver_medal</th>\n",
       "      <th>brone_medal</th>\n",
       "      <th>total_medal</th>\n",
       "    </tr>\n",
       "  </thead>\n",
       "  <tbody>\n",
       "    <tr>\n",
       "      <th>count</th>\n",
       "      <td>8613.000000</td>\n",
       "      <td>8618.000000</td>\n",
       "      <td>8618.000000</td>\n",
       "      <td>8618.000000</td>\n",
       "      <td>8618.000000</td>\n",
       "      <td>8618.000000</td>\n",
       "    </tr>\n",
       "    <tr>\n",
       "      <th>mean</th>\n",
       "      <td>26.405434</td>\n",
       "      <td>2005.978881</td>\n",
       "      <td>0.364702</td>\n",
       "      <td>0.363309</td>\n",
       "      <td>0.377698</td>\n",
       "      <td>1.105709</td>\n",
       "    </tr>\n",
       "    <tr>\n",
       "      <th>std</th>\n",
       "      <td>5.102118</td>\n",
       "      <td>4.289946</td>\n",
       "      <td>0.545349</td>\n",
       "      <td>0.511613</td>\n",
       "      <td>0.505005</td>\n",
       "      <td>0.408892</td>\n",
       "    </tr>\n",
       "    <tr>\n",
       "      <th>min</th>\n",
       "      <td>15.000000</td>\n",
       "      <td>2000.000000</td>\n",
       "      <td>0.000000</td>\n",
       "      <td>0.000000</td>\n",
       "      <td>0.000000</td>\n",
       "      <td>1.000000</td>\n",
       "    </tr>\n",
       "    <tr>\n",
       "      <th>25%</th>\n",
       "      <td>23.000000</td>\n",
       "      <td>2002.000000</td>\n",
       "      <td>0.000000</td>\n",
       "      <td>0.000000</td>\n",
       "      <td>0.000000</td>\n",
       "      <td>1.000000</td>\n",
       "    </tr>\n",
       "    <tr>\n",
       "      <th>50%</th>\n",
       "      <td>26.000000</td>\n",
       "      <td>2006.000000</td>\n",
       "      <td>0.000000</td>\n",
       "      <td>0.000000</td>\n",
       "      <td>0.000000</td>\n",
       "      <td>1.000000</td>\n",
       "    </tr>\n",
       "    <tr>\n",
       "      <th>75%</th>\n",
       "      <td>29.000000</td>\n",
       "      <td>2010.000000</td>\n",
       "      <td>1.000000</td>\n",
       "      <td>1.000000</td>\n",
       "      <td>1.000000</td>\n",
       "      <td>1.000000</td>\n",
       "    </tr>\n",
       "    <tr>\n",
       "      <th>max</th>\n",
       "      <td>61.000000</td>\n",
       "      <td>2012.000000</td>\n",
       "      <td>8.000000</td>\n",
       "      <td>3.000000</td>\n",
       "      <td>3.000000</td>\n",
       "      <td>8.000000</td>\n",
       "    </tr>\n",
       "  </tbody>\n",
       "</table>\n",
       "</div>"
      ],
      "text/plain": [
       "               age         year   gold_medal  silver_medal  brone_medal  \\\n",
       "count  8613.000000  8618.000000  8618.000000   8618.000000  8618.000000   \n",
       "mean     26.405434  2005.978881     0.364702      0.363309     0.377698   \n",
       "std       5.102118     4.289946     0.545349      0.511613     0.505005   \n",
       "min      15.000000  2000.000000     0.000000      0.000000     0.000000   \n",
       "25%      23.000000  2002.000000     0.000000      0.000000     0.000000   \n",
       "50%      26.000000  2006.000000     0.000000      0.000000     0.000000   \n",
       "75%      29.000000  2010.000000     1.000000      1.000000     1.000000   \n",
       "max      61.000000  2012.000000     8.000000      3.000000     3.000000   \n",
       "\n",
       "       total_medal  \n",
       "count  8618.000000  \n",
       "mean      1.105709  \n",
       "std       0.408892  \n",
       "min       1.000000  \n",
       "25%       1.000000  \n",
       "50%       1.000000  \n",
       "75%       1.000000  \n",
       "max       8.000000  "
      ]
     },
     "execution_count": 6,
     "metadata": {},
     "output_type": "execute_result"
    }
   ],
   "source": [
    "# Statistical summary of features\n",
    "olympix_df.describe()"
   ]
  },
  {
   "cell_type": "code",
   "execution_count": 7,
   "id": "79eeffb2",
   "metadata": {},
   "outputs": [
    {
     "data": {
      "text/plain": [
       "dtype('O')"
      ]
     },
     "execution_count": 7,
     "metadata": {},
     "output_type": "execute_result"
    }
   ],
   "source": [
    "# checking the data type of Date Given feature\n",
    "olympix_df['Date_Given'].dtype"
   ]
  },
  {
   "cell_type": "markdown",
   "id": "af645d9d",
   "metadata": {},
   "source": [
    "**Converting the data type of the \"Date Given\" feature from object to Date Time format because it is a date not a string**"
   ]
  },
  {
   "cell_type": "code",
   "execution_count": 8,
   "id": "53d352af",
   "metadata": {},
   "outputs": [],
   "source": [
    "olympix_df['Date_Given'] = olympix_df['Date_Given'].astype('datetime64[ns]')"
   ]
  },
  {
   "cell_type": "code",
   "execution_count": 9,
   "id": "bb819d36",
   "metadata": {},
   "outputs": [
    {
     "data": {
      "text/plain": [
       "dtype('<M8[ns]')"
      ]
     },
     "execution_count": 9,
     "metadata": {},
     "output_type": "execute_result"
    }
   ],
   "source": [
    "# checking the data type after converting\n",
    "olympix_df['Date_Given'].dtype  "
   ]
  },
  {
   "cell_type": "markdown",
   "id": "d04d60f7",
   "metadata": {},
   "source": [
    "**The 'Date Given' feature is converted into Date Time format**"
   ]
  },
  {
   "cell_type": "markdown",
   "id": "91da4d7e",
   "metadata": {},
   "source": [
    "## Checking Missing values"
   ]
  },
  {
   "cell_type": "code",
   "execution_count": 10,
   "id": "b1389949",
   "metadata": {},
   "outputs": [
    {
     "data": {
      "text/plain": [
       "name            5\n",
       "age             5\n",
       "country         0\n",
       "year            0\n",
       "Date_Given      0\n",
       "sports          0\n",
       "gold_medal      0\n",
       "silver_medal    0\n",
       "brone_medal     0\n",
       "total_medal     0\n",
       "dtype: int64"
      ]
     },
     "execution_count": 10,
     "metadata": {},
     "output_type": "execute_result"
    }
   ],
   "source": [
    "# checking total missing values in each feature in dataframe\n",
    "olympix_df.isna().sum()"
   ]
  },
  {
   "cell_type": "code",
   "execution_count": 11,
   "id": "b5ab3109",
   "metadata": {},
   "outputs": [
    {
     "data": {
      "text/plain": [
       "<AxesSubplot:>"
      ]
     },
     "execution_count": 11,
     "metadata": {},
     "output_type": "execute_result"
    },
    {
     "data": {
      "image/png": "[encoded data removed]",
      "text/plain": [
       "<Figure size 1800x720 with 3 Axes>"
      ]
     },
     "metadata": {
      "needs_background": "light"
     },
     "output_type": "display_data"
    }
   ],
   "source": [
    "msno.bar(olympix_df)  # bar graph for missing values"
   ]
  },
  {
   "cell_type": "markdown",
   "id": "303e7b70",
   "metadata": {},
   "source": [
    "**Observation :**\n",
    "* There are 5 missing values in 'Name' feature\n",
    "* There are 5 missing values in 'Age' feature"
   ]
  },
  {
   "cell_type": "code",
   "execution_count": 12,
   "id": "08a50fb8",
   "metadata": {},
   "outputs": [
    {
     "name": "stdout",
     "output_type": "stream",
     "text": [
      "Percentage of missing values in Name feature : 0.06 %\n",
      "Percentage of missing values in Age feature : 0.06 %\n"
     ]
    }
   ],
   "source": [
    "print(\"Percentage of missing values in Name feature :\",np.round(olympix_df['name'].isna().mean() * 100,2),\"%\")\n",
    "print(\"Percentage of missing values in Age feature :\",np.round(olympix_df['age'].isna().mean() * 100,2),\"%\")"
   ]
  },
  {
   "cell_type": "markdown",
   "id": "47672987",
   "metadata": {},
   "source": [
    "There are only 0.06% of missing values in both Name and Age feature. So I am going to remove that missing values"
   ]
  },
  {
   "cell_type": "markdown",
   "id": "0b6032e9",
   "metadata": {},
   "source": [
    "### Dealing with Missing values"
   ]
  },
  {
   "cell_type": "markdown",
   "id": "2636df0a",
   "metadata": {},
   "source": [
    "Droping the obervations which have the missing values"
   ]
  },
  {
   "cell_type": "code",
   "execution_count": 13,
   "id": "2446db28",
   "metadata": {},
   "outputs": [],
   "source": [
    "olympix_df = olympix_df.dropna()"
   ]
  },
  {
   "cell_type": "code",
   "execution_count": 14,
   "id": "10f7ffa8",
   "metadata": {},
   "outputs": [
    {
     "data": {
      "text/plain": [
       "name            0\n",
       "age             0\n",
       "country         0\n",
       "year            0\n",
       "Date_Given      0\n",
       "sports          0\n",
       "gold_medal      0\n",
       "silver_medal    0\n",
       "brone_medal     0\n",
       "total_medal     0\n",
       "dtype: int64"
      ]
     },
     "execution_count": 14,
     "metadata": {},
     "output_type": "execute_result"
    }
   ],
   "source": [
    "# checking after droping the missing values\n",
    "olympix_df.isna().sum()"
   ]
  },
  {
   "cell_type": "markdown",
   "id": "7e63ed5d",
   "metadata": {},
   "source": [
    "All the missing values are droped. So now there are no missing values"
   ]
  },
  {
   "cell_type": "markdown",
   "id": "c3febd2b",
   "metadata": {},
   "source": [
    "### Checking the Duplicates in Data Frame"
   ]
  },
  {
   "cell_type": "code",
   "execution_count": 15,
   "id": "7909809c",
   "metadata": {},
   "outputs": [
    {
     "data": {
      "text/plain": [
       "0"
      ]
     },
     "execution_count": 15,
     "metadata": {},
     "output_type": "execute_result"
    }
   ],
   "source": [
    "olympix_df.duplicated().sum()"
   ]
  },
  {
   "cell_type": "markdown",
   "id": "cb20ee72",
   "metadata": {},
   "source": [
    "There are no Duplicates in this Data frame"
   ]
  },
  {
   "cell_type": "markdown",
   "id": "060a3736",
   "metadata": {},
   "source": [
    "## Removing the special characters from the name column."
   ]
  },
  {
   "cell_type": "code",
   "execution_count": 16,
   "id": "867ba09d",
   "metadata": {},
   "outputs": [
    {
     "data": {
      "text/plain": [
       "6955"
      ]
     },
     "execution_count": 16,
     "metadata": {},
     "output_type": "execute_result"
    }
   ],
   "source": [
    "olympix_df['name'].nunique() # checking total unique names"
   ]
  },
  {
   "cell_type": "markdown",
   "id": "734af1f0",
   "metadata": {},
   "source": [
    "There are total of 6955 unique names"
   ]
  },
  {
   "cell_type": "code",
   "execution_count": 17,
   "id": "4db43636",
   "metadata": {},
   "outputs": [],
   "source": [
    "olympix_df1 = olympix_df.copy()   # creating a copy of original data frame"
   ]
  },
  {
   "cell_type": "code",
   "execution_count": 18,
   "id": "ba497e9b",
   "metadata": {},
   "outputs": [],
   "source": [
    "# importing the regex library for removal of special characters\n",
    "import re\n",
    "c = 0\n",
    "# iterating through name feature\n",
    "for i in olympix_df1['name']:\n",
    "    olympix_df1['name'][c] = re.sub('[^a-zA-Z]','',str(i))     # Removing all the special characters\n",
    "    c = c+1"
   ]
  },
  {
   "cell_type": "code",
   "execution_count": 19,
   "id": "8109092b",
   "metadata": {},
   "outputs": [
    {
     "data": {
      "text/html": [
       "<div>\n",
       "<style scoped>\n",
       "    .dataframe tbody tr th:only-of-type {\n",
       "        vertical-align: middle;\n",
       "    }\n",
       "\n",
       "    .dataframe tbody tr th {\n",
       "        vertical-align: top;\n",
       "    }\n",
       "\n",
       "    .dataframe thead th {\n",
       "        text-align: right;\n",
       "    }\n",
       "</style>\n",
       "<table border=\"1\" class=\"dataframe\">\n",
       "  <thead>\n",
       "    <tr style=\"text-align: right;\">\n",
       "      <th></th>\n",
       "      <th>name</th>\n",
       "      <th>age</th>\n",
       "      <th>country</th>\n",
       "      <th>year</th>\n",
       "      <th>Date_Given</th>\n",
       "      <th>sports</th>\n",
       "      <th>gold_medal</th>\n",
       "      <th>silver_medal</th>\n",
       "      <th>brone_medal</th>\n",
       "      <th>total_medal</th>\n",
       "    </tr>\n",
       "  </thead>\n",
       "  <tbody>\n",
       "    <tr>\n",
       "      <th>0</th>\n",
       "      <td>MichaelPhelps</td>\n",
       "      <td>23.0</td>\n",
       "      <td>United States</td>\n",
       "      <td>2008</td>\n",
       "      <td>2008-08-24</td>\n",
       "      <td>Swimming</td>\n",
       "      <td>8</td>\n",
       "      <td>0</td>\n",
       "      <td>0</td>\n",
       "      <td>8</td>\n",
       "    </tr>\n",
       "    <tr>\n",
       "      <th>1</th>\n",
       "      <td>MichaelPhelps</td>\n",
       "      <td>19.0</td>\n",
       "      <td>United States</td>\n",
       "      <td>2004</td>\n",
       "      <td>2004-08-29</td>\n",
       "      <td>Swimming</td>\n",
       "      <td>6</td>\n",
       "      <td>0</td>\n",
       "      <td>2</td>\n",
       "      <td>8</td>\n",
       "    </tr>\n",
       "    <tr>\n",
       "      <th>2</th>\n",
       "      <td>MichaelPhelps</td>\n",
       "      <td>27.0</td>\n",
       "      <td>United States</td>\n",
       "      <td>2012</td>\n",
       "      <td>2012-08-12</td>\n",
       "      <td>Swimming</td>\n",
       "      <td>4</td>\n",
       "      <td>2</td>\n",
       "      <td>0</td>\n",
       "      <td>6</td>\n",
       "    </tr>\n",
       "    <tr>\n",
       "      <th>3</th>\n",
       "      <td>NatalieCoughlin</td>\n",
       "      <td>25.0</td>\n",
       "      <td>United States</td>\n",
       "      <td>2008</td>\n",
       "      <td>2008-08-24</td>\n",
       "      <td>Swimming</td>\n",
       "      <td>1</td>\n",
       "      <td>2</td>\n",
       "      <td>3</td>\n",
       "      <td>6</td>\n",
       "    </tr>\n",
       "    <tr>\n",
       "      <th>4</th>\n",
       "      <td>AlekseyNemov</td>\n",
       "      <td>24.0</td>\n",
       "      <td>Russia</td>\n",
       "      <td>2000</td>\n",
       "      <td>2000-10-01</td>\n",
       "      <td>Gymnastics</td>\n",
       "      <td>2</td>\n",
       "      <td>1</td>\n",
       "      <td>3</td>\n",
       "      <td>6</td>\n",
       "    </tr>\n",
       "  </tbody>\n",
       "</table>\n",
       "</div>"
      ],
      "text/plain": [
       "              name   age        country  year Date_Given      sports  \\\n",
       "0    MichaelPhelps  23.0  United States  2008 2008-08-24    Swimming   \n",
       "1    MichaelPhelps  19.0  United States  2004 2004-08-29    Swimming   \n",
       "2    MichaelPhelps  27.0  United States  2012 2012-08-12    Swimming   \n",
       "3  NatalieCoughlin  25.0  United States  2008 2008-08-24    Swimming   \n",
       "4     AlekseyNemov  24.0         Russia  2000 2000-10-01  Gymnastics   \n",
       "\n",
       "   gold_medal  silver_medal  brone_medal  total_medal  \n",
       "0           8             0            0            8  \n",
       "1           6             0            2            8  \n",
       "2           4             2            0            6  \n",
       "3           1             2            3            6  \n",
       "4           2             1            3            6  "
      ]
     },
     "execution_count": 19,
     "metadata": {},
     "output_type": "execute_result"
    }
   ],
   "source": [
    "olympix_df1.head()  # first 5 rows after removal of special characters"
   ]
  },
  {
   "cell_type": "code",
   "execution_count": 20,
   "id": "72e37656",
   "metadata": {},
   "outputs": [
    {
     "data": {
      "text/plain": [
       "(8613, 10)"
      ]
     },
     "execution_count": 20,
     "metadata": {},
     "output_type": "execute_result"
    }
   ],
   "source": [
    "olympix_df1.shape"
   ]
  },
  {
   "cell_type": "markdown",
   "id": "0c6a5d6c",
   "metadata": {},
   "source": [
    "### Converting the cleaned Data Frame to CSV file"
   ]
  },
  {
   "cell_type": "code",
   "execution_count": 22,
   "id": "43b10a42",
   "metadata": {},
   "outputs": [],
   "source": [
    "olympix_df1.to_csv(\"olympix_Cleaned_data.csv\",index = False)"
   ]
  },
  {
   "cell_type": "markdown",
   "id": "f1209ff6",
   "metadata": {},
   "source": [
    "## Exploration of features through visualization"
   ]
  },
  {
   "cell_type": "code",
   "execution_count": 33,
   "id": "d54db828",
   "metadata": {},
   "outputs": [
    {
     "data": {
      "text/plain": [
       "Index(['name', 'age', 'country', 'year', 'Date_Given', 'sports', 'gold_medal',\n",
       "       'silver_medal', 'brone_medal', 'total_medal'],\n",
       "      dtype='object')"
      ]
     },
     "execution_count": 33,
     "metadata": {},
     "output_type": "execute_result"
    }
   ],
   "source": [
    "olympix_df1.columns  # columns in the data frame"
   ]
  },
  {
   "cell_type": "markdown",
   "id": "ef012f90",
   "metadata": {},
   "source": [
    "### Finding out the most total medals won in which sport category"
   ]
  },
  {
   "cell_type": "code",
   "execution_count": 34,
   "id": "bb385445",
   "metadata": {},
   "outputs": [
    {
     "data": {
      "image/png": "[encoded data removed]",
      "text/plain": [
       "<Figure size 720x576 with 1 Axes>"
      ]
     },
     "metadata": {},
     "output_type": "display_data"
    }
   ],
   "source": [
    "# setting the figure size\n",
    "sns.set(rc={'figure.figsize':(10,8)})\n",
    "\n",
    "# Grouping by the sport and picking top 10 sports\n",
    "sport_medals = olympix_df1.groupby('sports').agg({'total_medal':sum}).sort_values(['total_medal'],ascending=False).head(10)\n",
    "sport_medals = sport_medals.reset_index()\n",
    "\n",
    "# barplot\n",
    "sns.barplot(x = 'sports' ,y='total_medal',data = sport_medals, order = sport_medals.sports)\n",
    "plt.ylabel(\"Total Medals\")\n",
    "plt.title(\"Top 10 Sports Won most medals\")\n",
    "\n",
    "for i,df in enumerate(sport_medals.total_medal):\n",
    "    plt.text(i,df,str(df))   # ploting the counts of categiers"
   ]
  },
  {
   "cell_type": "markdown",
   "id": "0c63dc16",
   "metadata": {},
   "source": [
    "By the above figure, The most medals are won in Swimming sport(765), second most medals are won in Atheletics sport(753) and followed by Rowing sport(576). These are the top three sports in which most medals are won"
   ]
  },
  {
   "cell_type": "markdown",
   "id": "32dade02",
   "metadata": {},
   "source": [
    "### Finding out the most total medals won in which year"
   ]
  },
  {
   "cell_type": "code",
   "execution_count": 35,
   "id": "d0df54f7",
   "metadata": {},
   "outputs": [
    {
     "data": {
      "image/png": "[encoded data removed]",
      "text/plain": [
       "<Figure size 720x576 with 1 Axes>"
      ]
     },
     "metadata": {},
     "output_type": "display_data"
    }
   ],
   "source": [
    "# Grouping by the year\n",
    "yearly_medals = olympix_df1.groupby('year').agg({'total_medal':sum}).sort_values(['total_medal'],ascending=False)\n",
    "yearly_medals = yearly_medals.reset_index()\n",
    "\n",
    "# barplot\n",
    "sns.barplot(x = 'year' ,y='total_medal',data = yearly_medals, order = yearly_medals.year)\n",
    "plt.ylabel(\"Total Medals\")\n",
    "plt.title(\"Most Medals won in each year\")\n",
    "\n",
    "for i,df in enumerate(yearly_medals.total_medal):\n",
    "    plt.text(i,df,str(df))   # ploting the counts of categiers"
   ]
  },
  {
   "cell_type": "markdown",
   "id": "b08d7b75",
   "metadata": {},
   "source": [
    "By the above figure, The most medals are won in 2008 year (2050), second most medals are won in 2000 year (2005) and followed by 2004 year (2004) and the year 2002 is least medals won (478). These are the top three years in which most medals are won"
   ]
  },
  {
   "cell_type": "markdown",
   "id": "9cd2f8d1",
   "metadata": {},
   "source": [
    "### Age Feature Distribution"
   ]
  },
  {
   "cell_type": "code",
   "execution_count": 36,
   "id": "8a93c74f",
   "metadata": {},
   "outputs": [
    {
     "data": {
      "image/png": "[encoded data removed]",
      "text/plain": [
       "<Figure size 720x576 with 1 Axes>"
      ]
     },
     "metadata": {},
     "output_type": "display_data"
    }
   ],
   "source": [
    "# Checking distribution of age feature using histplot\n",
    "sns.histplot(olympix_df1['age'],kde = True).set_title('Distribution of age')\n",
    "\n",
    "plt.axvline(x=olympix_df1['age'].mean(), c='red',label='Mean') # Plotting mean value \n",
    "plt.axvline(x=olympix_df1['age'].median(), c='blue',ls='--',label='Median') # Plotting median value\n",
    "plt.legend()\n",
    "plt.show()"
   ]
  },
  {
   "cell_type": "markdown",
   "id": "c5995d77",
   "metadata": {},
   "source": [
    "The Distribution of Age feature is Moderatly Positivily skewed. let check skewness of the feature"
   ]
  },
  {
   "cell_type": "code",
   "execution_count": 37,
   "id": "b9ea9ab8",
   "metadata": {},
   "outputs": [
    {
     "data": {
      "text/plain": [
       "0.8590070668484233"
      ]
     },
     "execution_count": 37,
     "metadata": {},
     "output_type": "execute_result"
    }
   ],
   "source": [
    "olympix_df1['age'].skew()"
   ]
  },
  {
   "cell_type": "markdown",
   "id": "71a9a2d6",
   "metadata": {},
   "source": [
    "The skewness value is between 0.5 and 1. So the Age feature is Moderatly skewed. Let's transform this feature for converting into symmetic"
   ]
  },
  {
   "cell_type": "markdown",
   "id": "73bac116",
   "metadata": {},
   "source": [
    "### Log transformation"
   ]
  },
  {
   "cell_type": "code",
   "execution_count": 38,
   "id": "83980799",
   "metadata": {},
   "outputs": [],
   "source": [
    "# Adding a new columns and storing log values of age feature\n",
    "olympix_df1['age_log'] = np.log(olympix_df1['age'])"
   ]
  },
  {
   "cell_type": "code",
   "execution_count": 39,
   "id": "95f6b688",
   "metadata": {},
   "outputs": [
    {
     "data": {
      "image/png": "[encoded data removed]",
      "text/plain": [
       "<Figure size 720x576 with 1 Axes>"
      ]
     },
     "metadata": {},
     "output_type": "display_data"
    },
    {
     "name": "stdout",
     "output_type": "stream",
     "text": [
      "The Skewness of Age feature after Log Transformation : 0.1548420625269884\n"
     ]
    }
   ],
   "source": [
    "# Checking distribution of age feature using histplot after log transformation\n",
    "sns.histplot(olympix_df1['age_log'],kde = True).set_title('Distribution of Age after Log Transformation') # histplot\n",
    "\n",
    "plt.axvline(x=olympix_df1['age_log'].mean(), c='red',label='Mean') # Plotting mean value \n",
    "plt.axvline(x=olympix_df1['age_log'].median(), c='blue',ls='--',label='Median') # Plotting median value\n",
    "plt.legend()\n",
    "plt.show()\n",
    "\n",
    "# Printing the skewness of age feature after Log Transformation\n",
    "print(\"The Skewness of Age feature after Log Transformation :\",olympix_df1['age_log'].skew())"
   ]
  },
  {
   "cell_type": "markdown",
   "id": "d32184a9",
   "metadata": {},
   "source": [
    "By the above figure, The Age feature is Normally Distributed after the log transform. The skewness value of Age feature after log transform is between the -0.5 and 0.5 and Mean and Median of age feature is also same. **So now the Distribution of Age feature is Symmetric .**"
   ]
  },
  {
   "cell_type": "markdown",
   "id": "e8d93340",
   "metadata": {},
   "source": [
    "## Numerical Measures of each feature based on their data types"
   ]
  },
  {
   "cell_type": "code",
   "execution_count": 40,
   "id": "cd06b567",
   "metadata": {},
   "outputs": [
    {
     "data": {
      "text/plain": [
       "['age',\n",
       " 'year',\n",
       " 'gold_medal',\n",
       " 'silver_medal',\n",
       " 'brone_medal',\n",
       " 'total_medal',\n",
       " 'age_log']"
      ]
     },
     "execution_count": 40,
     "metadata": {},
     "output_type": "execute_result"
    }
   ],
   "source": [
    "# Fetching all numerical features\n",
    "numerical_features = [feature for feature in olympix_df1.columns if olympix_df1[feature].dtype == 'float64' or olympix_df1[feature].dtype == 'int64']\n",
    "numerical_features"
   ]
  },
  {
   "cell_type": "markdown",
   "id": "0376dcd8",
   "metadata": {},
   "source": [
    "**Statistical summary of Numerical features**"
   ]
  },
  {
   "cell_type": "code",
   "execution_count": 41,
   "id": "793a0d03",
   "metadata": {},
   "outputs": [
    {
     "data": {
      "text/html": [
       "<div>\n",
       "<style scoped>\n",
       "    .dataframe tbody tr th:only-of-type {\n",
       "        vertical-align: middle;\n",
       "    }\n",
       "\n",
       "    .dataframe tbody tr th {\n",
       "        vertical-align: top;\n",
       "    }\n",
       "\n",
       "    .dataframe thead th {\n",
       "        text-align: right;\n",
       "    }\n",
       "</style>\n",
       "<table border=\"1\" class=\"dataframe\">\n",
       "  <thead>\n",
       "    <tr style=\"text-align: right;\">\n",
       "      <th></th>\n",
       "      <th>age</th>\n",
       "      <th>year</th>\n",
       "      <th>gold_medal</th>\n",
       "      <th>silver_medal</th>\n",
       "      <th>brone_medal</th>\n",
       "      <th>total_medal</th>\n",
       "      <th>age_log</th>\n",
       "    </tr>\n",
       "  </thead>\n",
       "  <tbody>\n",
       "    <tr>\n",
       "      <th>count</th>\n",
       "      <td>8613.000000</td>\n",
       "      <td>8613.000000</td>\n",
       "      <td>8613.000000</td>\n",
       "      <td>8613.000000</td>\n",
       "      <td>8613.000000</td>\n",
       "      <td>8613.000000</td>\n",
       "      <td>8613.000000</td>\n",
       "    </tr>\n",
       "    <tr>\n",
       "      <th>mean</th>\n",
       "      <td>26.405434</td>\n",
       "      <td>2005.975386</td>\n",
       "      <td>0.364914</td>\n",
       "      <td>0.362940</td>\n",
       "      <td>0.377917</td>\n",
       "      <td>1.105770</td>\n",
       "      <td>3.255700</td>\n",
       "    </tr>\n",
       "    <tr>\n",
       "      <th>std</th>\n",
       "      <td>5.102118</td>\n",
       "      <td>4.288737</td>\n",
       "      <td>0.545436</td>\n",
       "      <td>0.511531</td>\n",
       "      <td>0.505069</td>\n",
       "      <td>0.409003</td>\n",
       "      <td>0.188060</td>\n",
       "    </tr>\n",
       "    <tr>\n",
       "      <th>min</th>\n",
       "      <td>15.000000</td>\n",
       "      <td>2000.000000</td>\n",
       "      <td>0.000000</td>\n",
       "      <td>0.000000</td>\n",
       "      <td>0.000000</td>\n",
       "      <td>1.000000</td>\n",
       "      <td>2.708050</td>\n",
       "    </tr>\n",
       "    <tr>\n",
       "      <th>25%</th>\n",
       "      <td>23.000000</td>\n",
       "      <td>2002.000000</td>\n",
       "      <td>0.000000</td>\n",
       "      <td>0.000000</td>\n",
       "      <td>0.000000</td>\n",
       "      <td>1.000000</td>\n",
       "      <td>3.135494</td>\n",
       "    </tr>\n",
       "    <tr>\n",
       "      <th>50%</th>\n",
       "      <td>26.000000</td>\n",
       "      <td>2006.000000</td>\n",
       "      <td>0.000000</td>\n",
       "      <td>0.000000</td>\n",
       "      <td>0.000000</td>\n",
       "      <td>1.000000</td>\n",
       "      <td>3.258097</td>\n",
       "    </tr>\n",
       "    <tr>\n",
       "      <th>75%</th>\n",
       "      <td>29.000000</td>\n",
       "      <td>2010.000000</td>\n",
       "      <td>1.000000</td>\n",
       "      <td>1.000000</td>\n",
       "      <td>1.000000</td>\n",
       "      <td>1.000000</td>\n",
       "      <td>3.367296</td>\n",
       "    </tr>\n",
       "    <tr>\n",
       "      <th>max</th>\n",
       "      <td>61.000000</td>\n",
       "      <td>2012.000000</td>\n",
       "      <td>8.000000</td>\n",
       "      <td>3.000000</td>\n",
       "      <td>3.000000</td>\n",
       "      <td>8.000000</td>\n",
       "      <td>4.110874</td>\n",
       "    </tr>\n",
       "  </tbody>\n",
       "</table>\n",
       "</div>"
      ],
      "text/plain": [
       "               age         year   gold_medal  silver_medal  brone_medal  \\\n",
       "count  8613.000000  8613.000000  8613.000000   8613.000000  8613.000000   \n",
       "mean     26.405434  2005.975386     0.364914      0.362940     0.377917   \n",
       "std       5.102118     4.288737     0.545436      0.511531     0.505069   \n",
       "min      15.000000  2000.000000     0.000000      0.000000     0.000000   \n",
       "25%      23.000000  2002.000000     0.000000      0.000000     0.000000   \n",
       "50%      26.000000  2006.000000     0.000000      0.000000     0.000000   \n",
       "75%      29.000000  2010.000000     1.000000      1.000000     1.000000   \n",
       "max      61.000000  2012.000000     8.000000      3.000000     3.000000   \n",
       "\n",
       "       total_medal      age_log  \n",
       "count  8613.000000  8613.000000  \n",
       "mean      1.105770     3.255700  \n",
       "std       0.409003     0.188060  \n",
       "min       1.000000     2.708050  \n",
       "25%       1.000000     3.135494  \n",
       "50%       1.000000     3.258097  \n",
       "75%       1.000000     3.367296  \n",
       "max       8.000000     4.110874  "
      ]
     },
     "execution_count": 41,
     "metadata": {},
     "output_type": "execute_result"
    }
   ],
   "source": [
    "olympix_df1.describe()"
   ]
  },
  {
   "cell_type": "markdown",
   "id": "ffb2af06",
   "metadata": {},
   "source": [
    "The above data frame contains all the Numerical Measures of  Numerical features."
   ]
  },
  {
   "cell_type": "code",
   "execution_count": 42,
   "id": "881054d5",
   "metadata": {},
   "outputs": [
    {
     "name": "stdout",
     "output_type": "stream",
     "text": [
      "Variance of age  :  26.028587682030835\n",
      "Variance of year  :  18.391127579403125\n",
      "Variance of gold_medal  :  0.29746625572501323\n",
      "Variance of silver_medal  :  0.26163361961290277\n",
      "Variance of brone_medal  :  0.25506557910263605\n",
      "Variance of total_medal  :  0.16726381211498498\n",
      "Variance of age_log  :  0.035362552976781085\n"
     ]
    }
   ],
   "source": [
    "# Finding Variance of each numerical feature\n",
    "for feature in numerical_features:\n",
    "    print(\"Variance of\",feature,\" : \",np.var(olympix_df1[feature]))"
   ]
  },
  {
   "cell_type": "markdown",
   "id": "5e140d12",
   "metadata": {},
   "source": [
    "**Statistical summary of Categorical features**"
   ]
  },
  {
   "cell_type": "code",
   "execution_count": 43,
   "id": "d1a3beba",
   "metadata": {},
   "outputs": [
    {
     "data": {
      "text/html": [
       "<div>\n",
       "<style scoped>\n",
       "    .dataframe tbody tr th:only-of-type {\n",
       "        vertical-align: middle;\n",
       "    }\n",
       "\n",
       "    .dataframe tbody tr th {\n",
       "        vertical-align: top;\n",
       "    }\n",
       "\n",
       "    .dataframe thead th {\n",
       "        text-align: right;\n",
       "    }\n",
       "</style>\n",
       "<table border=\"1\" class=\"dataframe\">\n",
       "  <thead>\n",
       "    <tr style=\"text-align: right;\">\n",
       "      <th></th>\n",
       "      <th>name</th>\n",
       "      <th>country</th>\n",
       "      <th>sports</th>\n",
       "    </tr>\n",
       "  </thead>\n",
       "  <tbody>\n",
       "    <tr>\n",
       "      <th>count</th>\n",
       "      <td>8613</td>\n",
       "      <td>8613</td>\n",
       "      <td>8613</td>\n",
       "    </tr>\n",
       "    <tr>\n",
       "      <th>unique</th>\n",
       "      <td>6955</td>\n",
       "      <td>110</td>\n",
       "      <td>49</td>\n",
       "    </tr>\n",
       "    <tr>\n",
       "      <th>top</th>\n",
       "      <td>RobertScheidt</td>\n",
       "      <td>United States</td>\n",
       "      <td>Athletics</td>\n",
       "    </tr>\n",
       "    <tr>\n",
       "      <th>freq</th>\n",
       "      <td>4</td>\n",
       "      <td>1109</td>\n",
       "      <td>687</td>\n",
       "    </tr>\n",
       "  </tbody>\n",
       "</table>\n",
       "</div>"
      ],
      "text/plain": [
       "                 name        country     sports\n",
       "count            8613           8613       8613\n",
       "unique           6955            110         49\n",
       "top     RobertScheidt  United States  Athletics\n",
       "freq                4           1109        687"
      ]
     },
     "execution_count": 43,
     "metadata": {},
     "output_type": "execute_result"
    }
   ],
   "source": [
    "olympix_df1.describe(exclude = ['float64','int64','datetime64[ns]'])"
   ]
  },
  {
   "cell_type": "markdown",
   "id": "fa0fca30",
   "metadata": {},
   "source": [
    "The above data frame contains all the Numerical Measures of Categorical features."
   ]
  },
  {
   "cell_type": "markdown",
   "id": "17c725f8",
   "metadata": {},
   "source": [
    " ## Top 10 Countries with the Gold medal"
   ]
  },
  {
   "cell_type": "code",
   "execution_count": 44,
   "id": "7d87810d",
   "metadata": {},
   "outputs": [
    {
     "data": {
      "image/png": "[encoded data removed]",
      "text/plain": [
       "<Figure size 720x576 with 1 Axes>"
      ]
     },
     "metadata": {},
     "output_type": "display_data"
    }
   ],
   "source": [
    "# Grouping by the country and sorting top 10 countries\n",
    "top_gold = olympix_df1.groupby('country').agg({'gold_medal':sum}).sort_values(['gold_medal'],ascending=False).head(10)\n",
    "top_gold = top_gold.reset_index()\n",
    "\n",
    "# barplot\n",
    "sns.barplot(x = 'country' ,y='gold_medal',data = top_gold, order = top_gold.country)\n",
    "plt.xticks(rotation = 20)\n",
    "plt.xlabel(\"Country\")\n",
    "plt.ylabel(\"Gold Medals\")\n",
    "plt.title(\"Top 10 Countries that Won most Gold Medals\")\n",
    "\n",
    "for i,df in enumerate(top_gold.gold_medal):\n",
    "    plt.text(i,df,str(df))   # ploting the counts of categiers"
   ]
  },
  {
   "cell_type": "markdown",
   "id": "28480bd5",
   "metadata": {},
   "source": [
    "**Observation :**\n",
    "* Unites States is the country that has won most Gold Medals(552).\n",
    "* Russia and China are countries that have won the second most Gold Medals(234).\n",
    "* Germany has won third most Gold medals (223).\n",
    "* Then followed by Canada (168), Australia(163), Great Britain(124), South Korea(110), France(108) and Netherlands(101). These are Top 10 countries have won most Gold medals.\n"
   ]
  },
  {
   "cell_type": "markdown",
   "id": "139206c0",
   "metadata": {},
   "source": [
    "## Top 10 Countries with the Silver medal"
   ]
  },
  {
   "cell_type": "code",
   "execution_count": 45,
   "id": "9fe44fc0",
   "metadata": {
    "scrolled": true
   },
   "outputs": [
    {
     "data": {
      "image/png": "[encoded data removed]",
      "text/plain": [
       "<Figure size 720x576 with 1 Axes>"
      ]
     },
     "metadata": {},
     "output_type": "display_data"
    }
   ],
   "source": [
    "# Grouping by the country and sorting top 10 countries\n",
    "top_silver = olympix_df1.groupby('country').agg({'silver_medal':sum}).sort_values(['silver_medal'],ascending=False).head(10)\n",
    "top_silver = top_silver.reset_index()\n",
    "\n",
    "# barplot\n",
    "sns.barplot(x = 'country' ,y='silver_medal',data = top_silver, order = top_silver.country)\n",
    "plt.xticks(rotation = 20)\n",
    "plt.xlabel(\"Country\")\n",
    "plt.ylabel(\"Silver Medals\")\n",
    "plt.title(\"Top 10 Countries that Won most Silver Medals\")\n",
    "\n",
    "for i,df in enumerate(top_silver.silver_medal):\n",
    "    plt.text(i,df,str(df))   # ploting the counts of categiers"
   ]
  },
  {
   "cell_type": "markdown",
   "id": "12652dea",
   "metadata": {},
   "source": [
    "**Observation :**\n",
    "* Unites States is the country that has won most Silver Medals(440).\n",
    "* Australia is the country that has won Second most Silver Medals(226).\n",
    "* Russia is the country that has won Third most Silver Medals(221).\n",
    "* Then followed by Germany(183), China(156), Netherlands(135), Spain(116), Japan(112), France(107) and Italy(103). These are Top 10 countries have won most Sliver medals.\n"
   ]
  },
  {
   "cell_type": "markdown",
   "id": "f0bd3e73",
   "metadata": {},
   "source": [
    "## Top 10 Countries with the Bronze medal"
   ]
  },
  {
   "cell_type": "code",
   "execution_count": 46,
   "id": "4b7ba867",
   "metadata": {},
   "outputs": [
    {
     "data": {
      "image/png": "[encoded data removed]",
      "text/plain": [
       "<Figure size 720x576 with 1 Axes>"
      ]
     },
     "metadata": {},
     "output_type": "display_data"
    }
   ],
   "source": [
    "# Grouping by the country and sorting top 10 countries\n",
    "top_bronze = olympix_df1.groupby('country').agg({'brone_medal':sum}).sort_values(['brone_medal'],ascending=False).head(10)\n",
    "top_bronze = top_bronze.reset_index()\n",
    "\n",
    "# barplot\n",
    "sns.barplot(x = 'country' ,y='brone_medal',data = top_bronze, order = top_bronze.country)\n",
    "plt.xticks(rotation = 20)\n",
    "plt.xlabel(\"Country\")\n",
    "plt.ylabel(\"Bronze Medals\")\n",
    "plt.title(\"Top 10 Countries that Won most Bronze Medals\")\n",
    "\n",
    "for i,df in enumerate(top_bronze.brone_medal):\n",
    "    plt.text(i,df,str(df))   # ploting the counts of categiers"
   ]
  },
  {
   "cell_type": "markdown",
   "id": "5126ae7f",
   "metadata": {},
   "source": [
    "**Observation :**\n",
    "* Unites States is the country that has won most Bronze Medals(320).\n",
    "* Russia is the country that has won Second most Bronze Medals(313).\n",
    "* Germany is the country that has won Third most Bronze Medals(223).\n",
    "* Then followed by Australia(220), Italy(142), China(140), Japan(113), South Korea(105), Canada(104) and France(103). These are Top 10 countries have won most Bronze medals."
   ]
  },
  {
   "cell_type": "markdown",
   "id": "dc230cb0",
   "metadata": {},
   "source": [
    "## Top 10 Countries with the Total Medals"
   ]
  },
  {
   "cell_type": "code",
   "execution_count": 47,
   "id": "16b64b5f",
   "metadata": {},
   "outputs": [
    {
     "data": {
      "image/png": "[encoded data removed]",
      "text/plain": [
       "<Figure size 720x576 with 1 Axes>"
      ]
     },
     "metadata": {},
     "output_type": "display_data"
    }
   ],
   "source": [
    "# Grouping by the country and sorting top 10 countries\n",
    "top_total_medal = olympix_df1.groupby('country').agg({'total_medal':sum}).sort_values(['total_medal'],ascending=False).head(10)\n",
    "top_total_medal = top_total_medal.reset_index()\n",
    "\n",
    "# barplot\n",
    "sns.barplot(x = 'country' ,y='total_medal',data = top_total_medal, order = top_total_medal.country)\n",
    "plt.xticks(rotation = 20)\n",
    "plt.xlabel(\"Country\")\n",
    "plt.ylabel(\"Total Medals\")\n",
    "plt.title(\"Top 10 Countries that Won most Total Medals\")\n",
    "\n",
    "for i,df in enumerate(top_total_medal.total_medal):\n",
    "    plt.text(i,df,str(df))   # ploting the counts of categiers"
   ]
  },
  {
   "cell_type": "markdown",
   "id": "cfa226e1",
   "metadata": {},
   "source": [
    "**Observation :**\n",
    "* Unites States is the country that has won most Total Medals(1312).\n",
    "* Russia is the country that has won Second most Total Medals(768).\n",
    "* Germany is the country that has won Third most Total Medals(629).\n",
    "* Then followed by Australia(609), China(530), Canada(370), Italy(331), Great Britain(322), France(318) and Netherlands(318). These are Top 10 countries have won most Total medals."
   ]
  }
 ],
 "metadata": {
  "kernelspec": {
   "display_name": "Python 3 (ipykernel)",
   "language": "python",
   "name": "python3"
  },
  "language_info": {
   "codemirror_mode": {
    "name": "ipython",
    "version": 3
   },
   "file_extension": ".py",
   "mimetype": "text/x-python",
   "name": "python",
   "nbconvert_exporter": "python",
   "pygments_lexer": "ipython3",
   "version": "3.9.7"
  }
 },
 "nbformat": 4,
 "nbformat_minor": 5
}
